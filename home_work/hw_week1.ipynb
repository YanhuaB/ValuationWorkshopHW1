{
 "cells": [
  {
   "cell_type": "markdown",
   "metadata": {},
   "source": [
    "## Valuation Week 1 Practice"
   ]
  },
  {
   "cell_type": "markdown",
   "metadata": {},
   "source": [
    "#### Object:\n",
    "\n",
    "Python:\n",
    "1. Get Started to code in Python and Jupyter Notebook\n",
    "2. Learn to process native Python data types\n",
    "3. Learn to use repetition and selection\n",
    "4. Learn to create a function\n",
    "\n",
    "Valuation:\n",
    "1. Understand a yield\n",
    "2. Use a yield curve to discount a single sum cashflow in the future\n",
    "\n"
   ]
  },
  {
   "cell_type": "markdown",
   "metadata": {},
   "source": [
    "#### Background:\n",
    "\n",
    "1. CAD OIS Curve is a commonly used yield curve to discount financial instruments denominated in CAD currency\n",
    "2. The yield curve is ACT/365 daily compounding (we will cover this in Week2)"
   ]
  },
  {
   "cell_type": "markdown",
   "metadata": {},
   "source": [
    "##### Preparation\n",
    "\n",
    "1. Run the below cell to load the curve\n",
    "2. This is real market data observed as of 2024-08-15\n",
    "3. For the purpose of this homework, we will roll the dates of the yield curve with below prep cells (already setup by your instructor)\n",
    "2. Make sure you have the cad_ois.json file in the same working directory as this notebook"
   ]
  },
  {
   "cell_type": "code",
   "execution_count": null,
   "metadata": {},
   "outputs": [],
   "source": [
    "from datetime import date, datetime, timedelta\n",
    "import pandas as pd\n",
    "\n",
    "with open(f\"cad_ois.json\",\"r\") as f:\n",
    "  data = json.load(f)\n",
    "\n",
    "curve = data[\"zeroCurve\"][\"points\"]\n",
    "date_diff = datetime.today() - datetime.strptime(data[\"curveDate\"],\"%Y-%m-%d\")\n",
    "for p in curve:\n",
    "  p[\"date\"] = (datetime.strptime(p[\"date\"],\"%Y-%m-%d\") + timedelta(date_diff.days)).strftime(\"%Y-%m-%d\")\n"
   ]
  },
  {
   "cell_type": "code",
   "execution_count": null,
   "metadata": {},
   "outputs": [],
   "source": [
    "## curve is rolled forward and preparation is done\n",
    "## now take a peek at the data structure of the yield curve\n",
    "curve"
   ]
  },
  {
   "cell_type": "code",
   "execution_count": null,
   "metadata": {},
   "outputs": [],
   "source": [
    "## if it's hard for you to read data in list of dictionaries, you can save a copy of csv file to have a look\n",
    "pd.DataFrame(curve).to_csv(f\"cad_ois_{date.today().strftime('%Y-%m-%d')}.csv\",index=False)"
   ]
  },
  {
   "cell_type": "markdown",
   "metadata": {},
   "source": [
    "##### Comment:\n",
    "\n",
    "1. Now you have a direct view of the data structure of the yield curve, let's explain how to use it.\n",
    "2. parQuote is the price of the financial instruments (in this case, money market instruments) observed on the market, which are used to contruct this curve; you can ignore this value for this practice.\n",
    "3. yield is the annulized return of a certain node on the curve.\n",
    "4. tenor is the corresponding term (count in days) of the yield.\n",
    "5. Since this is a daily compounding curve, the actual discount rate = [(1 + yield/365) ^ tenor]^-1 \n",
    "6. The discountFactor is computed slightly differently, please ignore this field for this practice as well.\n",
    "7. discount rate computed in #5 is the rate you can use to discount a cashflow lands on that specific tenor"
   ]
  },
  {
   "cell_type": "markdown",
   "metadata": {},
   "source": [
    "##### Practice:\n",
    "\n",
    "1. There are only so many instruments observable on the market. So there are only so many nodes available on a yield curve.\n",
    "2. However, this yield curve should be used to discount cashflow occurs on any future date.\n",
    "3. The complication occurs when you have to discount a cashflow falls bewteen 2 available tenor dates.\n",
    "4. A common approach is to do linear interpolation of the 2 neighboring nodes."
   ]
  },
  {
   "cell_type": "markdown",
   "metadata": {},
   "source": [
    "##### Question 1\n",
    "1. Create a function, the input of which is a tenor (eg. 20d), the output of which is the 2 neighboring nodes on the yield curve (1d & 32d)"
   ]
  },
  {
   "cell_type": "code",
   "execution_count": null,
   "metadata": {},
   "outputs": [],
   "source": [
    "## Type your answer here:"
   ]
  },
  {
   "cell_type": "markdown",
   "metadata": {},
   "source": [
    "##### Question 2\n",
    "1. Create a function that performs linear interpolation\n",
    "2. In this case, the weighting happens on tenors (what's the distance bewteen 1d to 20d vs. 20d to 32d)\n",
    "3. And the interpolated yield is a weighted average of the discount rate of the 1d yield and 32d yield by their relative distance\n",
    "4. This function should be generic enough to be able to interpolate any tenor on the yield curve (not exceeding the maximum 18263d)"
   ]
  },
  {
   "cell_type": "code",
   "execution_count": null,
   "metadata": {},
   "outputs": [],
   "source": [
    "## Type your answer here:"
   ]
  },
  {
   "cell_type": "markdown",
   "metadata": {},
   "source": [
    "##### Question 3\n",
    "1. Create a generic function\n",
    "2. The 2 inputs are cashflow amount, and tenor (count in days)\n",
    "3. The output is the present value of such cashflow"
   ]
  },
  {
   "cell_type": "code",
   "execution_count": null,
   "metadata": {},
   "outputs": [],
   "source": [
    "## Type your answer here:\n",
    "\n",
    "## This is Kailai trying to answer this question\n",
    "## This is Kailai trying to answer more questions",
"## This is Kailai trying to answer more questions again and again"
   ]
  }
 ],
 "metadata": {
  "kernelspec": {
   "display_name": "Python 3",
   "language": "python",
   "name": "python3"
  },
  "language_info": {
   "codemirror_mode": {
    "name": "ipython",
    "version": 3
   },
   "file_extension": ".py",
   "mimetype": "text/x-python",
   "name": "python",
   "nbconvert_exporter": "python",
   "pygments_lexer": "ipython3",
   "version": "3.11.8"
  }
 },
 "nbformat": 4,
 "nbformat_minor": 2
}
