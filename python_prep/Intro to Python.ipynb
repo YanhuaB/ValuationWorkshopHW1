{
 "cells": [
  {
   "cell_type": "markdown",
   "id": "ff2d380d",
   "metadata": {},
   "source": [
    "# <p style=\"color:#008000\"> Intro to Python </p>"
   ]
  },
  {
   "cell_type": "markdown",
   "id": "02a7f54c",
   "metadata": {},
   "source": [
    "## Learning Objective"
   ]
  },
  {
   "cell_type": "markdown",
   "id": "3854c0c0",
   "metadata": {},
   "source": [
    "Two objectives of this module - introduce python for those of you who are beginners, and get you all familiar and comfortable with using jupyter notebooks.\n",
    "\n",
    "The truth is, to get comfortable with python, you will need to practice. There is a tremendous amount of material on the internet that will aid you on your python jounrey and it will likely be more informative than what we could cover in a learning session.\n",
    "\n",
    "https://www.learnpython.org/ is a good place to start and will cover all the materials in this learning session and more. \n"
   ]
  },
  {
   "cell_type": "markdown",
   "id": "9ba49839",
   "metadata": {},
   "source": [
    "## Welcome to Python"
   ]
  },
  {
   "cell_type": "markdown",
   "id": "8470c719",
   "metadata": {},
   "source": [
    "Python is a popular choice by beginners and experienced programmers alike.\n",
    "It is widely adopted in task automation, data analytics, and machine learning, but also capable of many other use cases such as web development.\n",
    "\n",
    "The following features make Python easy to pick up:\n",
    "\n",
    "1. An interpreted language (the code is executed line by line rather than being complied into machine code): easy to test and debug;\n",
    "2. A high-level language: easy to code without worrying about the nitty gritty of the hardcore computer science concepts such as memory management;\n",
    "3. A dynamically-typed language: easy to interact with different types of data without strictly defining variable type;\n",
    "4. Easy-to-learn syntax;\n",
    "5. Large active community: free libraries and tools to achieve common tasks; tutorials and forums as resources for learning;"
   ]
  },
  {
   "cell_type": "markdown",
   "id": "694045b0",
   "metadata": {},
   "source": [
    "## Python Interpreter & Jupyter Notesbook"
   ]
  },
  {
   "cell_type": "markdown",
   "id": "e7947c02",
   "metadata": {},
   "source": [
    "Python interpreter is required to execute python code. Users can install it in Windows and run Python code locally. The interpreter can also be hosted on servers so users can run code without any installation.\n",
    "\n",
    "There are several ways to run Python code:\n",
    "\n",
    "1. Use Windows command console to run code line by line (local)\n",
    "2. Use WIndows command console to run entire script (local)\n",
    "3. Use an IDE (integrated development environment) developed by the Python commuity such as Visual Studio Code and Jupyter Notebook\n",
    "\n",
    "There are 2 types of Python code files:\n",
    "1. .py - generic Python script\n",
    "2. .ipynb - Jupyter specific\n",
    "\n",
    "Recommended Beginner Package: Anaconda"
   ]
  },
  {
   "cell_type": "markdown",
   "id": "b89f1b7e",
   "metadata": {},
   "source": [
    "## Using Jupyter Notebook"
   ]
  },
  {
   "cell_type": "markdown",
   "id": "363ce4f3",
   "metadata": {},
   "source": [
    "The Jupyter Notebook is an interactive environment for writing and running code. The notebook is capable of running code in a wide range of languages. However, each notebook is associated with a single kernel.  This notebook is associated with the IPython kernel, therefore runs Python code.\n",
    "\n",
    "These lines of text are not interpreted as code becaused this block has been designated as **Markdown**.\n",
    "\n",
    "Markdown supports HTML and is an excellent way to add commentary to your code outside of hash comments.\n"
   ]
  },
  {
   "cell_type": "markdown",
   "id": "c868cd8f",
   "metadata": {},
   "source": [
    "The Jupyter Notebook is a friendly IDE for beginners. Users can organize their code in \"code blocks\". Each block can be triggered individually and the result of the code is displayed immediately below that code block. This makes debugging very easy.\n",
    "\n",
    "Users can interact with the built in buttons in Jupyter for various operations. Keyboard shortcuts are available as well."
   ]
  },
  {
   "cell_type": "markdown",
   "id": "424bc200",
   "metadata": {},
   "source": [
    "Run a code cell using `Shift-Enter` or pressing the <button class='btn btn-default btn-xs'><i class=\"icon-step-forward fa fa-play\"></i></button> button in the toolbar above:"
   ]
  },
  {
   "cell_type": "code",
   "execution_count": 1,
   "id": "04a40512",
   "metadata": {
    "scrolled": true
   },
   "outputs": [
    {
     "name": "stdout",
     "output_type": "stream",
     "text": [
      "Hello World\n"
     ]
    }
   ],
   "source": [
    "## This is your first line of code\n",
    "print(\"Hello World\")"
   ]
  },
  {
   "cell_type": "markdown",
   "id": "16d84c82",
   "metadata": {},
   "source": [
    "## Managing the Kernal - Python Instance"
   ]
  },
  {
   "cell_type": "markdown",
   "id": "8a9c10db",
   "metadata": {},
   "source": [
    "Code is run in a separate process called the Kernel.  The Kernel can be interrupted or restarted.  Pressing the <button class='btn btn-default btn-xs'><i class='icon-stop fa fa-stop'></i></button> button in the toolbar above will interrupt the code execution."
   ]
  },
  {
   "cell_type": "markdown",
   "id": "69b01234",
   "metadata": {},
   "source": [
    "The kernel maintains the state of a notebook's computations. You can reset this state by restarting the kernel. This is done by clicking on the <button class='btn btn-default btn-xs'><i class='fa fa-repeat icon-repeat'></i></button> in the toolbar above."
   ]
  },
  {
   "cell_type": "code",
   "execution_count": 2,
   "id": "dce60b00",
   "metadata": {},
   "outputs": [],
   "source": [
    "##We will define some variables in the first code block\n",
    "radius = 2\n",
    "pi = 3.14"
   ]
  },
  {
   "cell_type": "code",
   "execution_count": 3,
   "id": "277076a1",
   "metadata": {},
   "outputs": [
    {
     "name": "stdout",
     "output_type": "stream",
     "text": [
      "12.56\n"
     ]
    }
   ],
   "source": [
    "##And execute it in the second code block to demonstrate a single Python Instance\n",
    "##However if we restart the Kernal and run this code block directly, it wouldn't work. Restarting the Kernal clears the memory and reset the Python Instance.\n",
    "area = pi * (radius ** 2)\n",
    "print(area)"
   ]
  },
  {
   "cell_type": "markdown",
   "id": "b4d8b971",
   "metadata": {},
   "source": [
    "# Learning by referencing the documentation"
   ]
  },
  {
   "cell_type": "markdown",
   "id": "862420a0",
   "metadata": {},
   "source": [
    "Learn to leverage the documentation or help function while you code."
   ]
  },
  {
   "cell_type": "markdown",
   "id": "cd12b5da",
   "metadata": {},
   "source": [
    "### Quick Tip:\n",
    "\n",
    "*Hash/Unhash code by pressing \" ctrl+/ \". You will be using this frequently in the lessons!*"
   ]
  },
  {
   "cell_type": "markdown",
   "id": "071cde7e",
   "metadata": {},
   "source": [
    "## Variables"
   ]
  },
  {
   "cell_type": "markdown",
   "id": "745756ce",
   "metadata": {},
   "source": [
    "A \"Variable\" is a name given to refence a specific object in python. Variables are just names, they do not have data types.\n",
    "Variables can be assigned to other variables. \n",
    "Python will also collect the garbage and recycles the memory (eg. planet variable remapped to 1, Pluto gets recycled)"
   ]
  },
  {
   "cell_type": "code",
   "execution_count": 5,
   "id": "10bbe26b",
   "metadata": {},
   "outputs": [
    {
     "name": "stdout",
     "output_type": "stream",
     "text": [
      "1\n",
      "Me\n",
      "You\n"
     ]
    }
   ],
   "source": [
    "planet = 'pluto'\n",
    "planet = 1   #order of execution becomes important\n",
    "print(planet)\n",
    "\n",
    "#multiple variables can be named at once\n",
    "a,b = 'Me','You'\n",
    "print(a)\n",
    "print(b)"
   ]
  },
  {
   "cell_type": "markdown",
   "id": "2c9b5a80",
   "metadata": {},
   "source": [
    "Variables need to be defined, there is no default value"
   ]
  },
  {
   "cell_type": "code",
   "execution_count": 6,
   "id": "860a0c6a",
   "metadata": {},
   "outputs": [
    {
     "ename": "NameError",
     "evalue": "name 'plant' is not defined",
     "output_type": "error",
     "traceback": [
      "\u001b[0;31m---------------------------------------------------------------------------\u001b[0m",
      "\u001b[0;31mNameError\u001b[0m                                 Traceback (most recent call last)",
      "\u001b[0;32m/apps/valrs/pvalrs/tmp/ipykernel_11875/1602783853.py\u001b[0m in \u001b[0;36m<module>\u001b[0;34m\u001b[0m\n\u001b[0;32m----> 1\u001b[0;31m \u001b[0mprint\u001b[0m\u001b[0;34m(\u001b[0m\u001b[0mplant\u001b[0m\u001b[0;34m)\u001b[0m \u001b[0;31m#note deliberate mispelling\u001b[0m\u001b[0;34m\u001b[0m\u001b[0;34m\u001b[0m\u001b[0m\n\u001b[0m",
      "\u001b[0;31mNameError\u001b[0m: name 'plant' is not defined"
     ]
    }
   ],
   "source": [
    "print(plant) #note deliberate mispelling"
   ]
  },
  {
   "cell_type": "markdown",
   "id": "36d3ffc7",
   "metadata": {},
   "source": [
    "Variables are mutable"
   ]
  },
  {
   "cell_type": "code",
   "execution_count": 7,
   "id": "ee9f887d",
   "metadata": {},
   "outputs": [
    {
     "name": "stdout",
     "output_type": "stream",
     "text": [
      "2\n"
     ]
    }
   ],
   "source": [
    "a = 1\n",
    "a = 2\n",
    "print(a)"
   ]
  },
  {
   "cell_type": "markdown",
   "id": "d6c025ce",
   "metadata": {},
   "source": [
    "Variable convention includes: snake case and camel case\n",
    "\n",
    "my_variable is a snake case\n",
    "\n",
    "myVariable is a camel case\n",
    "\n",
    "iPhone is also a camel case\n",
    "\n",
    "Snake case is more common convention in when coding in Pyhon"
   ]
  },
  {
   "cell_type": "markdown",
   "id": "50301741",
   "metadata": {},
   "source": [
    "It is important to remember that Python 3 has 35 reserved keywords that cannot be used as variable names. Below is the list of Python 3.6 reserved keywords in their exact spelling (McKinney, 2017):\n",
    "\n",
    "    False      class      finally    is         return\n",
    "    None       continue   for        lambda     try\n",
    "    True       def        from       nonlocal   while\n",
    "    and        del        global     not        with\n",
    "    as         elif       if         or         yield\n",
    "    assert     else       import     pass\n",
    "    break      except     in         raise"
   ]
  },
  {
   "cell_type": "markdown",
   "id": "6bc12c0d",
   "metadata": {},
   "source": [
    "## Python Data Types"
   ]
  },
  {
   "cell_type": "markdown",
   "id": "63928277",
   "metadata": {},
   "source": [
    "Python only supports certain data types natively.\n",
    "We will list the important ones in below code blocks.\n"
   ]
  },
  {
   "cell_type": "code",
   "execution_count": 8,
   "id": "dfa622c9",
   "metadata": {},
   "outputs": [
    {
     "name": "stdout",
     "output_type": "stream",
     "text": [
      "2\n",
      "<class 'int'>\n",
      "2.2\n",
      "<class 'float'>\n"
     ]
    }
   ],
   "source": [
    "#numeric data types\n",
    "\n",
    "integer_number = 2\n",
    "float_number = 2.2\n",
    "complex_number = complex(1,1)\n",
    "\n",
    "print(integer_number)\n",
    "print(type(integer_number))\n",
    "\n",
    "print(float_number)\n",
    "print(type(float_number))\n",
    "\n"
   ]
  },
  {
   "cell_type": "code",
   "execution_count": 9,
   "id": "b4481f63",
   "metadata": {},
   "outputs": [
    {
     "name": "stdout",
     "output_type": "stream",
     "text": [
      "String is text, and is bounded by single/double quotation marks\n",
      "<class 'str'>\n",
      "2\n",
      "<class 'str'>\n"
     ]
    }
   ],
   "source": [
    "#string data type\n",
    "my_string = 'String is text, and is bounded by single/double quotation marks'\n",
    "my_string2 = \"2\" ##This is also a string not a number\n",
    "\n",
    "print(my_string)\n",
    "print(type(my_string))\n",
    "print(my_string2)\n",
    "print(type(my_string2))"
   ]
  },
  {
   "cell_type": "code",
   "execution_count": 10,
   "id": "8ffab7b5",
   "metadata": {},
   "outputs": [
    {
     "name": "stdout",
     "output_type": "stream",
     "text": [
      "True\n",
      "<class 'bool'>\n",
      "False\n",
      "<class 'bool'>\n"
     ]
    }
   ],
   "source": [
    "#bool (boolean)\n",
    "my_bool = True\n",
    "my_bool2 = False\n",
    "\n",
    "print(my_bool)\n",
    "print(type(my_bool))\n",
    "print(my_bool2)\n",
    "print(type(my_bool2))"
   ]
  },
  {
   "cell_type": "code",
   "execution_count": 11,
   "id": "b25dd82a",
   "metadata": {},
   "outputs": [
    {
     "name": "stdout",
     "output_type": "stream",
     "text": [
      "(1, 2, 3)\n",
      "<class 'tuple'>\n"
     ]
    }
   ],
   "source": [
    "#tuple - a sequence of data bounded by round bracket\n",
    "my_tuple = (1,2,3)\n",
    "print(my_tuple)\n",
    "print(type(my_tuple))"
   ]
  },
  {
   "cell_type": "code",
   "execution_count": 12,
   "id": "bf33b34b",
   "metadata": {},
   "outputs": [
    {
     "name": "stdout",
     "output_type": "stream",
     "text": [
      "[1, 2, 3]\n",
      "<class 'list'>\n"
     ]
    }
   ],
   "source": [
    "#list - a sequence of data bounded by square bracket\n",
    "my_list = [1,2,3]\n",
    "print(my_list)\n",
    "print(type(my_list))"
   ]
  },
  {
   "cell_type": "code",
   "execution_count": 13,
   "id": "a391f9c2",
   "metadata": {},
   "outputs": [
    {
     "name": "stdout",
     "output_type": "stream",
     "text": [
      "(1, 'one', True)\n",
      "<class 'tuple'>\n",
      "3\n",
      "[2, 'two', ['another list', False]]\n",
      "<class 'list'>\n",
      "3\n"
     ]
    }
   ],
   "source": [
    "#tuples and lists have many similarities.\n",
    "#both can contain different data types\n",
    "#both are defined with a certain \"length\"\n",
    "#both have orders\n",
    "\n",
    "my_tuple2 = (1,'one',True)\n",
    "my_list2 = [2,\"two\",[\"another list\",False]]\n",
    "\n",
    "print(my_tuple2)\n",
    "print(type(my_tuple2))\n",
    "print(len(my_tuple2))\n",
    "print(my_list2)\n",
    "print(type(my_list2))\n",
    "print(len(my_list2))"
   ]
  },
  {
   "cell_type": "code",
   "execution_count": 14,
   "id": "9c610b4d",
   "metadata": {},
   "outputs": [
    {
     "name": "stdout",
     "output_type": "stream",
     "text": [
      "[2, 'two', ['another list', False], (1, 'one', True)]\n",
      "<class 'list'>\n",
      "4\n"
     ]
    }
   ],
   "source": [
    "#The key difference between the two data types is that tuples are immutable but lists are\n",
    "my_list2.append(my_tuple2)\n",
    "print(my_list2)\n",
    "print(type(my_list2))\n",
    "print(len(my_list2))\n",
    "\n",
    "#Once a tuple is defined, you can no longer make changes to it.\n",
    "#Therefore, lists are more frequently used while coding if you want to group some data into a sequence. As you can re-iterate(supposed to be mutable?) it along the process as you want."
   ]
  },
  {
   "cell_type": "code",
   "execution_count": 15,
   "id": "daa9486c",
   "metadata": {},
   "outputs": [
    {
     "name": "stdout",
     "output_type": "stream",
     "text": [
      "{'book': 'The Lord of the Rings', 'author': 'J.R.R. Tolkien'}\n",
      "<class 'dict'>\n"
     ]
    }
   ],
   "source": [
    "#dictionary - one or multiple key:value pairs bounded by curly brackets\n",
    "my_dictionary = {\n",
    "    'book': 'The Lord of the Rings',\n",
    "    'author': 'J.R.R. Tolkien'\n",
    "}\n",
    "\n",
    "print(my_dictionary)\n",
    "print(type(my_dictionary))"
   ]
  },
  {
   "cell_type": "code",
   "execution_count": 16,
   "id": "4ca897c5",
   "metadata": {},
   "outputs": [],
   "source": [
    "#the keys are usually strings, but the values can contain any data type, a single string, or number type, or a tuple, a list, or even another dictionary\n",
    "my_dictionary2 = {\n",
    "    'book': 'The Lord of the Rings',\n",
    "    'author': 'J.R.R. Tolkien',\n",
    "    'reviews': {\n",
    "        'Amazon': 4.5,\n",
    "        'WSJ': 4.8\n",
    "    }\n",
    "}"
   ]
  },
  {
   "cell_type": "markdown",
   "id": "708566d1",
   "metadata": {},
   "source": [
    "## Python native functions"
   ]
  },
  {
   "cell_type": "code",
   "execution_count": 17,
   "id": "1984d319",
   "metadata": {},
   "outputs": [
    {
     "name": "stdout",
     "output_type": "stream",
     "text": [
      "11\n",
      "3\n",
      "28\n",
      "16\n",
      "2.0\n",
      "4\n",
      "4.5\n",
      "5\n",
      "18\n"
     ]
    }
   ],
   "source": [
    "#math operators\n",
    "print(4+7) \n",
    "print(7-4) \n",
    "print(4*7)\n",
    "print(4**2) ##exponentiation\n",
    "print(8/4)\n",
    "print(4%7) ##whole division\n",
    "print(round(4.55,1)) ##rounding\n",
    "print(abs(-5))\n",
    "print((5+4)*2) ##supporting scientific calc"
   ]
  },
  {
   "cell_type": "code",
   "execution_count": 18,
   "id": "3095fe26",
   "metadata": {},
   "outputs": [
    {
     "name": "stdout",
     "output_type": "stream",
     "text": [
      "4.0\n",
      "<class 'float'>\n",
      "4\n",
      "<class 'int'>\n"
     ]
    }
   ],
   "source": [
    "#data type conversion\n",
    "a = 4.0\n",
    "\n",
    "print(a)\n",
    "print(type(a))\n",
    "\n",
    "b = int(a)\n",
    "print(b)\n",
    "print(type(b))"
   ]
  },
  {
   "cell_type": "code",
   "execution_count": 19,
   "id": "9a10bec1",
   "metadata": {},
   "outputs": [
    {
     "name": "stdout",
     "output_type": "stream",
     "text": [
      "1\n",
      "<class 'str'>\n",
      "1\n",
      "<class 'int'>\n"
     ]
    }
   ],
   "source": [
    "a = \"1\"\n",
    "\n",
    "print(a)\n",
    "print(type(a))\n",
    "\n",
    "b = int(a)\n",
    "print(b)\n",
    "print(type(b))"
   ]
  },
  {
   "cell_type": "code",
   "execution_count": 20,
   "id": "1311cf82",
   "metadata": {},
   "outputs": [
    {
     "name": "stdout",
     "output_type": "stream",
     "text": [
      "(1, 2, 3)\n",
      "<class 'tuple'>\n",
      "[1, 2, 3]\n",
      "<class 'list'>\n"
     ]
    }
   ],
   "source": [
    "a = (1,2,3)\n",
    "\n",
    "print(a)\n",
    "print(type(a))\n",
    "\n",
    "b = list(a)\n",
    "print(b)\n",
    "print(type(b))"
   ]
  },
  {
   "cell_type": "code",
   "execution_count": 21,
   "id": "dbdc6689",
   "metadata": {},
   "outputs": [
    {
     "name": "stdout",
     "output_type": "stream",
     "text": [
      "(1, 2, 3)\n",
      "<class 'tuple'>\n",
      "range(0, 5)\n"
     ]
    }
   ],
   "source": [
    "#utility functions\n",
    "print(a)\n",
    "type_of_a = type(a)\n",
    "print(type_of_a)\n",
    "print(range(0,5))"
   ]
  },
  {
   "cell_type": "code",
   "execution_count": 22,
   "id": "ced11c81",
   "metadata": {},
   "outputs": [
    {
     "data": {
      "text/plain": [
       "False"
      ]
     },
     "execution_count": 22,
     "metadata": {},
     "output_type": "execute_result"
    }
   ],
   "source": [
    "#conditions\n",
    "1 == 2"
   ]
  },
  {
   "cell_type": "code",
   "execution_count": 23,
   "id": "fa9ca5b9",
   "metadata": {},
   "outputs": [
    {
     "data": {
      "text/plain": [
       "True"
      ]
     },
     "execution_count": 23,
     "metadata": {},
     "output_type": "execute_result"
    }
   ],
   "source": [
    "3 == 3"
   ]
  },
  {
   "cell_type": "code",
   "execution_count": 24,
   "id": "8ea8fde0",
   "metadata": {},
   "outputs": [
    {
     "data": {
      "text/plain": [
       "False"
      ]
     },
     "execution_count": 24,
     "metadata": {},
     "output_type": "execute_result"
    }
   ],
   "source": [
    "3 == \"3\""
   ]
  },
  {
   "cell_type": "code",
   "execution_count": 25,
   "id": "f33b4c8e",
   "metadata": {},
   "outputs": [
    {
     "data": {
      "text/plain": [
       "True"
      ]
     },
     "execution_count": 25,
     "metadata": {},
     "output_type": "execute_result"
    }
   ],
   "source": [
    "9 > 8"
   ]
  },
  {
   "cell_type": "code",
   "execution_count": 26,
   "id": "42d9e083",
   "metadata": {},
   "outputs": [
    {
     "data": {
      "text/plain": [
       "True"
      ]
     },
     "execution_count": 26,
     "metadata": {},
     "output_type": "execute_result"
    }
   ],
   "source": [
    "1 in [1,2,3]"
   ]
  },
  {
   "cell_type": "code",
   "execution_count": 27,
   "id": "11032185",
   "metadata": {},
   "outputs": [
    {
     "data": {
      "text/plain": [
       "False"
      ]
     },
     "execution_count": 27,
     "metadata": {},
     "output_type": "execute_result"
    }
   ],
   "source": [
    "4 in [1,2,3]"
   ]
  },
  {
   "cell_type": "code",
   "execution_count": 28,
   "id": "d23b8f5d",
   "metadata": {},
   "outputs": [
    {
     "name": "stdout",
     "output_type": "stream",
     "text": [
      "False\n",
      "<class 'bool'>\n"
     ]
    }
   ],
   "source": [
    "a = 50\n",
    "\n",
    "b = (49 == a)\n",
    "print(b)\n",
    "print(type(b))\n",
    "\n",
    "#The condition results a bool (True, False)\n",
    "#You can assign the condition result into a variable"
   ]
  },
  {
   "cell_type": "code",
   "execution_count": 29,
   "id": "57acf2a1",
   "metadata": {},
   "outputs": [
    {
     "name": "stdout",
     "output_type": "stream",
     "text": [
      "True\n"
     ]
    }
   ],
   "source": [
    "print(b == False) "
   ]
  },
  {
   "cell_type": "code",
   "execution_count": 30,
   "id": "1dfd59cf",
   "metadata": {},
   "outputs": [
    {
     "name": "stdout",
     "output_type": "stream",
     "text": [
      "True\n",
      "False\n",
      "False\n"
     ]
    }
   ],
   "source": [
    "a = 3.0\n",
    "b = 3\n",
    "print(a == b) \n",
    "print(type(a) == type(b))\n",
    "print(a is b)"
   ]
  },
  {
   "cell_type": "code",
   "execution_count": 31,
   "id": "9e0a236c",
   "metadata": {},
   "outputs": [
    {
     "name": "stdout",
     "output_type": "stream",
     "text": [
      "True\n",
      "False\n",
      "True\n"
     ]
    }
   ],
   "source": [
    "#Python condition supports \"and\" and \"or\"\n",
    "a = (2 == 2) & (3 == 3)\n",
    "b = (2 == 2) & (2 == 3)\n",
    "c = (2 == 2) | (2 == 3)\n",
    "\n",
    "print(a)\n",
    "print(b)\n",
    "print(c)"
   ]
  },
  {
   "cell_type": "markdown",
   "id": "c3ebab84",
   "metadata": {},
   "source": [
    "The expression after `if` should be a boolean expression, i.e. that evaluates to `True` or `False`. Here is a list of the comparison operators that are useful for constructing boolean expressions:  \n",
    "\n",
    "     x == y   tests for equality      \n",
    "     x != y   x is not equal y (5 != 6 is True)   \n",
    "     x > y    greater than            \n",
    "     x < y    less than              \n",
    "     x >= y   greater than or equal   \n",
    "     x <= y   less than or equal  \n",
    "     x is y   x is the same as y\n",
    "\n",
    "__NOTE:__ The `is` operator may seem the same as the equality (==) operator. In fact, operator `is` checks if two variables point to the same object, whereas the `==` checks if the values for the two variables are the same. "
   ]
  },
  {
   "cell_type": "markdown",
   "id": "c18ab57e",
   "metadata": {},
   "source": [
    "## Optional: Python as a OOP (Object Oriented Programming) language"
   ]
  },
  {
   "cell_type": "markdown",
   "id": "4e98d9d3",
   "metadata": {},
   "source": [
    "This is optional knowledge at this point. But this is helpful as you progress in Python.\n",
    "\n",
    "Everything in Python or other OOP language is an object. An object is a group of data type with similar fundamental structures. In turn, programmers can create attributes and method (functions) onto an object. This practice makes code well organized and reused easily.\n",
    "\n",
    "Attributes are accessible as object.attribute\n",
    "\n",
    "Methods are accessible as object.method()\n",
    "\n",
    "As you progress, you will be able to define your own object by using \"class\""
   ]
  },
  {
   "cell_type": "code",
   "execution_count": 32,
   "id": "97a99fac",
   "metadata": {},
   "outputs": [
    {
     "data": {
      "text/plain": [
       "3"
      ]
     },
     "execution_count": 32,
     "metadata": {},
     "output_type": "execute_result"
    }
   ],
   "source": [
    "#for example, the data type string is a native Python object. Once you defined a string object, you can access all available attributes and methods automatically.\n",
    "\n",
    "my_string3 = \"How many a's are there in this sentence?\"\n",
    "my_string3.count(\"a\")"
   ]
  },
  {
   "cell_type": "code",
   "execution_count": 33,
   "id": "1ebe2fc4",
   "metadata": {},
   "outputs": [
    {
     "data": {
      "text/plain": [
       "['inventories: GED TDBTO CADSSO',\n",
       " 'GED TDSTO CADSSO',\n",
       " 'GED TDBTO SNOTES',\n",
       " 'GED TDBTO SNOTES2']"
      ]
     },
     "execution_count": 33,
     "metadata": {},
     "output_type": "execute_result"
    }
   ],
   "source": [
    "#similarily for a list\n",
    "my_inventories = \"inventories: GED TDBTO CADSSO,GED TDSTO CADSSO,GED TDBTO SNOTES,GED TDBTO SNOTES2\"\n",
    "my_inventories.split(\",\")"
   ]
  },
  {
   "cell_type": "markdown",
   "id": "1b295104",
   "metadata": {},
   "source": [
    "## Access and manipulate data from Python native data types"
   ]
  },
  {
   "cell_type": "markdown",
   "id": "dd746282",
   "metadata": {},
   "source": [
    "#### Accessing data in a string"
   ]
  },
  {
   "cell_type": "code",
   "execution_count": 34,
   "id": "586aae3f",
   "metadata": {},
   "outputs": [
    {
     "name": "stdout",
     "output_type": "stream",
     "text": [
      "How many a's are there in this sentence?\n"
     ]
    }
   ],
   "source": [
    "print(my_string3)"
   ]
  },
  {
   "cell_type": "code",
   "execution_count": 35,
   "id": "4057ec50",
   "metadata": {},
   "outputs": [
    {
     "data": {
      "text/plain": [
       "'H'"
      ]
     },
     "execution_count": 35,
     "metadata": {},
     "output_type": "execute_result"
    }
   ],
   "source": [
    "my_string3[0] ##It is important that in programming languages, the index starts from 0"
   ]
  },
  {
   "cell_type": "code",
   "execution_count": 36,
   "id": "ebab80b6",
   "metadata": {},
   "outputs": [
    {
     "data": {
      "text/plain": [
       "'How'"
      ]
     },
     "execution_count": 36,
     "metadata": {},
     "output_type": "execute_result"
    }
   ],
   "source": [
    "my_string3[0:3] ##the slicing method includes the first index but not the last"
   ]
  },
  {
   "cell_type": "code",
   "execution_count": 37,
   "id": "bb7e7dcb",
   "metadata": {},
   "outputs": [
    {
     "data": {
      "text/plain": [
       "'How'"
      ]
     },
     "execution_count": 37,
     "metadata": {},
     "output_type": "execute_result"
    }
   ],
   "source": [
    "my_string3[:3] ##This is equivalent as above if you want to start from the 0 index"
   ]
  },
  {
   "cell_type": "code",
   "execution_count": 38,
   "id": "e26e7827",
   "metadata": {},
   "outputs": [
    {
     "data": {
      "text/plain": [
       "\"many a's are there in this sentence?\""
      ]
     },
     "execution_count": 38,
     "metadata": {},
     "output_type": "execute_result"
    }
   ],
   "source": [
    "my_string3[4:] ##again m is the 4th character but its index is 3 in the list"
   ]
  },
  {
   "cell_type": "code",
   "execution_count": 39,
   "id": "25ec92d6",
   "metadata": {},
   "outputs": [
    {
     "name": "stdout",
     "output_type": "stream",
     "text": [
      "How many a's are there in this sentence? The answer is: 3\n"
     ]
    }
   ],
   "source": [
    "#strings are additive\n",
    "my_string4 = my_string3 + \" The answer is: \" + str(my_string3.count(\"a\"))\n",
    "print(my_string4)"
   ]
  },
  {
   "cell_type": "code",
   "execution_count": 40,
   "id": "ecfcac7e",
   "metadata": {},
   "outputs": [
    {
     "name": "stdout",
     "output_type": "stream",
     "text": [
      "How many a's are there in this sentence? The answer is: 3\n"
     ]
    }
   ],
   "source": [
    "#But f string is a better way if you want to include a variable there\n",
    "my_string5 = f\"{my_string3} The answer is: {my_string3.count('a')}\"\n",
    "print(my_string5)"
   ]
  },
  {
   "cell_type": "markdown",
   "id": "acac0f3b",
   "metadata": {},
   "source": [
    "#### Accessing data in a list"
   ]
  },
  {
   "cell_type": "code",
   "execution_count": 41,
   "id": "8bbc0758",
   "metadata": {},
   "outputs": [
    {
     "name": "stdout",
     "output_type": "stream",
     "text": [
      "My best friend is Bart\n",
      "['Bart', 'Lisa', 'Burns']\n",
      "6\n",
      "Smithers\n"
     ]
    }
   ],
   "source": [
    "characters = ['Homer','Marge','Bart','Lisa','Burns','Smithers']\n",
    "\n",
    "\n",
    "print ('My best friend is ' + characters[2])\n",
    "\n",
    "#to get a range of elements in a list.\n",
    "print (characters[2:5]) #get 5 elements folling the first 2\n",
    "\n",
    "#To return the length of a list\n",
    "print(len(characters))\n",
    "\n",
    "#return the last item in a list using index\n",
    "print(characters[-1])"
   ]
  },
  {
   "cell_type": "markdown",
   "id": "db4529e0",
   "metadata": {},
   "source": [
    "#### Accessing data in a dictionary"
   ]
  },
  {
   "cell_type": "code",
   "execution_count": 42,
   "id": "45e7f2d6",
   "metadata": {},
   "outputs": [
    {
     "name": "stdout",
     "output_type": "stream",
     "text": [
      "{'book': 'The Lord of the Rings', 'author': 'J.R.R. Tolkien', 'reviews': {'Amazon': 4.5, 'WSJ': 4.8}}\n"
     ]
    },
    {
     "data": {
      "text/plain": [
       "'The Lord of the Rings'"
      ]
     },
     "execution_count": 42,
     "metadata": {},
     "output_type": "execute_result"
    }
   ],
   "source": [
    "print(my_dictionary2)\n",
    "my_dictionary2['book'] ##you can access the value of they key"
   ]
  },
  {
   "cell_type": "code",
   "execution_count": 43,
   "id": "da3b4fe9",
   "metadata": {},
   "outputs": [
    {
     "data": {
      "text/plain": [
       "4.5"
      ]
     },
     "execution_count": 43,
     "metadata": {},
     "output_type": "execute_result"
    }
   ],
   "source": [
    "my_dictionary2['reviews']['Amazon'] ##similarily, you can access values from nested dictionaries"
   ]
  },
  {
   "cell_type": "code",
   "execution_count": 44,
   "id": "22974af9",
   "metadata": {},
   "outputs": [
    {
     "name": "stdout",
     "output_type": "stream",
     "text": [
      "{'book': 'The Lord of the Rings', 'author': 'J.R.R. Tolkien', 'reviews': {'Amazon': 4.2, 'WSJ': 4.8}}\n"
     ]
    }
   ],
   "source": [
    "#You can update the value of a key\n",
    "my_dictionary2['reviews']['Amazon'] = 4.2\n",
    "print(my_dictionary2)"
   ]
  },
  {
   "cell_type": "markdown",
   "id": "28f40698",
   "metadata": {},
   "source": [
    "## The Power of Programming"
   ]
  },
  {
   "cell_type": "markdown",
   "id": "2af22f0f",
   "metadata": {},
   "source": [
    "The real power of programming comes from the ability to perform:\n",
    "\n",
    "**Selection** - The ability to do one thing rather than another\n",
    "\n",
    "**Repitition** - The ability to automatically do something many times"
   ]
  },
  {
   "cell_type": "markdown",
   "id": "9c191784",
   "metadata": {},
   "source": [
    "#### Selection - If, elif, and else"
   ]
  },
  {
   "cell_type": "code",
   "execution_count": 45,
   "id": "f7e01a29",
   "metadata": {},
   "outputs": [
    {
     "name": "stdout",
     "output_type": "stream",
     "text": [
      "greater\n"
     ]
    }
   ],
   "source": [
    "moons = 3\n",
    "if moons < 0:    #always start with if condition\n",
    "    print('less')  \n",
    "elif moons == 0: #there can be 0 or more elif clauses \n",
    "    print('equal')\n",
    "else:            #the else clause has no condition and is executed if above clauses are not met\n",
    "    print('greater')\n",
    "\n",
    "#Condition and Clauses are always tried in order\n",
    "#Since mmoons is not less than 0 or equal to zero, neither of the first 2 blocks are executed\n",
    "#indent in Python has meaning. It is used in selection statements and functions to represent relationship."
   ]
  },
  {
   "cell_type": "markdown",
   "id": "79d73b6c",
   "metadata": {},
   "source": [
    "Python uses indentation to show which statements are in an if, elif, else statement.\n",
    "\n",
    "Any amount of indentation will work, but the standard is 4 spaces (**and you must be consistent**)"
   ]
  },
  {
   "cell_type": "markdown",
   "id": "a708e5e2",
   "metadata": {},
   "source": [
    "#### Repitition - Loops"
   ]
  },
  {
   "cell_type": "markdown",
   "id": "e85b20ef",
   "metadata": {},
   "source": [
    "While loop (loop while condition is met)"
   ]
  },
  {
   "cell_type": "code",
   "execution_count": 46,
   "id": "a0f7e780",
   "metadata": {},
   "outputs": [
    {
     "name": "stdout",
     "output_type": "stream",
     "text": [
      "3\n",
      "2\n",
      "1\n"
     ]
    }
   ],
   "source": [
    "tasks = 3\n",
    "while tasks > 0:  #<- while this is true\n",
    "    print (tasks) #  do\n",
    "    tasks -= 1    # This"
   ]
  },
  {
   "cell_type": "markdown",
   "id": "9c17ff81",
   "metadata": {},
   "source": [
    "For Loops(iterating through lists)"
   ]
  },
  {
   "cell_type": "code",
   "execution_count": 47,
   "id": "d273bf7c",
   "metadata": {},
   "outputs": [
    {
     "name": "stdout",
     "output_type": "stream",
     "text": [
      "0.0\n",
      "2.5\n",
      "5.0\n",
      "7.5\n",
      "10.0\n",
      "12.5\n",
      "15.0\n",
      "17.5\n",
      "20.0\n",
      "22.5\n"
     ]
    }
   ],
   "source": [
    "data = range(10) #range, like an index, starts at 0. This range will give 0-9 (10 numbers)\n",
    "scale = 2.5\n",
    "\n",
    "#iterate from i=0 to i=9\n",
    "for i in data:\n",
    "    i = i*scale\n",
    "    print(i)"
   ]
  },
  {
   "cell_type": "markdown",
   "id": "5a3d7de0",
   "metadata": {},
   "source": [
    "#### Combine Repitition (looping) and Selection"
   ]
  },
  {
   "cell_type": "code",
   "execution_count": 48,
   "id": "85e309fb",
   "metadata": {},
   "outputs": [
    {
     "name": "stdout",
     "output_type": "stream",
     "text": [
      "1\n",
      "2\n",
      "3\n",
      "4\n"
     ]
    }
   ],
   "source": [
    "tasks = 0\n",
    "while tasks < 5:\n",
    "    if tasks >0:\n",
    "        print (tasks)\n",
    "    tasks +=1"
   ]
  },
  {
   "cell_type": "markdown",
   "id": "fdb7050a",
   "metadata": {},
   "source": [
    "#### Breaks and Continues"
   ]
  },
  {
   "cell_type": "markdown",
   "id": "6bd1f2a1",
   "metadata": {},
   "source": [
    "We can use breaks to stop a loop when a condition is met, or continue to skip a specific iteration of the loop (ie. when a null value is present)"
   ]
  },
  {
   "cell_type": "code",
   "execution_count": 49,
   "id": "c980c75d",
   "metadata": {},
   "outputs": [
    {
     "name": "stdout",
     "output_type": "stream",
     "text": [
      "Break example\n",
      "0\n",
      "1\n",
      "2\n",
      "Continue example\n",
      "0\n",
      "1\n",
      "2\n",
      "3\n",
      "5\n"
     ]
    }
   ],
   "source": [
    "print('Break example')\n",
    "d2 = range(5)\n",
    "\n",
    "for i in d2:\n",
    "    if i == 3:\n",
    "        break\n",
    "    print(i)\n",
    "\n",
    "print(\"Continue example\")\n",
    "\n",
    "d3 = range (6)\n",
    "\n",
    "for i in d3:\n",
    "    if i == 4:\n",
    "        continue\n",
    "    print(i)"
   ]
  },
  {
   "cell_type": "markdown",
   "id": "2c9f6df0",
   "metadata": {},
   "source": [
    "## Functions"
   ]
  },
  {
   "cell_type": "markdown",
   "id": "7d2f2dbd",
   "metadata": {},
   "source": [
    "There are two types of functions in Python programming:\n",
    "\n",
    "**Standard library functions** - These are built-in functions in Python that are available to use.\n",
    "**User-defined functions** - We can create our own functions based on our requirements.\n"
   ]
  },
  {
   "cell_type": "code",
   "execution_count": 50,
   "id": "d051142c",
   "metadata": {},
   "outputs": [],
   "source": [
    "#syntax for a function\n",
    "def function_name(arguments):\n",
    "    # function body \n",
    "\n",
    "    return"
   ]
  },
  {
   "cell_type": "code",
   "execution_count": 51,
   "id": "4322ef15",
   "metadata": {},
   "outputs": [
    {
     "name": "stdout",
     "output_type": "stream",
     "text": [
      "<class 'function'>\n"
     ]
    }
   ],
   "source": [
    "print(type(function_name))"
   ]
  },
  {
   "cell_type": "code",
   "execution_count": 52,
   "id": "20aa2ced",
   "metadata": {},
   "outputs": [],
   "source": [
    "def convert_percentage(x):\n",
    "    for x in data:\n",
    "        print(x/100)\n",
    "\n",
    "data = [10,22,33,100]\n"
   ]
  },
  {
   "cell_type": "code",
   "execution_count": 53,
   "id": "3b3c6c14",
   "metadata": {},
   "outputs": [
    {
     "name": "stdout",
     "output_type": "stream",
     "text": [
      "0.1\n",
      "0.22\n",
      "0.33\n",
      "1.0\n"
     ]
    }
   ],
   "source": [
    "convert_percentage(data)"
   ]
  },
  {
   "cell_type": "code",
   "execution_count": 54,
   "id": "4820a277",
   "metadata": {},
   "outputs": [],
   "source": [
    "def simple_percent(x):\n",
    "    perc = x/100\n",
    "    return (perc)\n",
    "    \n"
   ]
  },
  {
   "cell_type": "code",
   "execution_count": 55,
   "id": "f9926825",
   "metadata": {},
   "outputs": [
    {
     "data": {
      "text/plain": [
       "0.1"
      ]
     },
     "execution_count": 55,
     "metadata": {},
     "output_type": "execute_result"
    }
   ],
   "source": [
    "simple_percent(10)"
   ]
  },
  {
   "cell_type": "markdown",
   "id": "4a11a475",
   "metadata": {},
   "source": [
    "## Takeaways"
   ]
  },
  {
   "cell_type": "markdown",
   "id": "6d0f27d6",
   "metadata": {},
   "source": [
    "This notebook is to set you up so you can start coding.\n",
    "Some of you might find the material very basic if you already have some experience in Python.\n",
    "\n",
    "But there are still some key concepts here.\n",
    "\n",
    "It is always important to differentiate what data type and functions are Python native versus what is provided by 3rd party libraries and tools developed by the Python community.\n",
    "For instances, you might have noticed this notebook didn't mention anything about \"tables\". In fact, Python does not support tabular data type by itself. Instead, a list of dictionaries is something equivalent to a table if you stick to native Python strictly. Nevertheless, thanks to the large Python community, external libraries such as Pandas is developed and made available free so we can import it to process data in tabular format.\n",
    "\n",
    "In addition, concepts of selection, repitition, and functions are so generic to all programming languages. They are the true power of programming and the key capabilities of automation.\n",
    "\n",
    "Lastly, understanding OOP (Object Oriented Programming) might be a bit harder if you just started. But keep it in mind. You will understand this fundamental logic and find it helpful as you progress.\n",
    "\n",
    "Please be noted that this notebook is far away from an all-inclusive manual of Python. In fact, it is impossible to find any course that is \"complete\". Practice and research is the only way to learn coding. Asking Google the right question, checking with your colleagues or friends, and leveraging powerful forums such as Stack Overflow are all good sources of learning. But eventually, you need to get used to using the official documentations from either native Python or some 3rd party libraries.\n",
    "\n",
    "This is the first step of millions to go.\n",
    "Good luck and Happy Coding."
   ]
  },
  {
   "cell_type": "markdown",
   "id": "b529e157",
   "metadata": {},
   "source": [
    "## Practice Questions"
   ]
  },
  {
   "cell_type": "markdown",
   "id": "19fa8b0d",
   "metadata": {},
   "source": [
    "Exercise 1\n",
    "\n",
    "Write a function to compute the n-th element of the Fibonacci sequence recursively.  \n",
    "If you need to familiarize yourself with the Fibonacci sequence, please refer to\n",
    "https://en.wikipedia.org/wiki/Fibonacci_number (Fibonacci number, n.d.).\n",
    "The function should take an integer number `n` as an argument and return n-th element of the Fibonacci sequence.\n",
    "The first two numbers in the sequence are 0 and 1, and each subsequent number is the sum of the previous two."
   ]
  },
  {
   "cell_type": "code",
   "execution_count": 95,
   "id": "b515b029",
   "metadata": {},
   "outputs": [],
   "source": [
    "##Type your code here"
   ]
  },
  {
   "cell_type": "markdown",
   "id": "d36ab1a7",
   "metadata": {},
   "source": [
    "Exercise 2\n",
    "\n",
    "In this question, you are given a string `s` which represents a DNA string. The string `s` consists of symbols `'A', 'C', 'G',` and `'T'`. An example of a length 21 DNA string is `\"ATGCTTCAGAAAGGTCTTACG.\"` \n",
    "\n",
    "Your task is to write a code which will count the number of times each of the symbols `'A', 'C', 'G'`, and `'T'` occur in `s`. Your code should generate a **list of 4 integers** and **print it out**."
   ]
  },
  {
   "cell_type": "code",
   "execution_count": null,
   "id": "d185f8df",
   "metadata": {},
   "outputs": [],
   "source": [
    "##Type your code here"
   ]
  },
  {
   "cell_type": "markdown",
   "id": "0683d200",
   "metadata": {},
   "source": [
    "Exercise 3\n",
    "\n",
    "You are given a dictionary of the US states and their capitals. The keys in the dictionary are states and the values are capital names.\n",
    "\n",
    "Write a code to return a **list of all capitals** that contain the name of a state in their name as a substring.\n",
    "\n",
    "**HINT:** For example, `Indianapolis` as a capital name and `Indiana` as a state name is one of the key/value pairs that your code would find. Your code should add `Indianapolis` to the list. After you found all capitals and added them to the list, print out the list."
   ]
  },
  {
   "cell_type": "code",
   "execution_count": 96,
   "id": "5240157a",
   "metadata": {},
   "outputs": [
    {
     "data": {
      "text/plain": [
       "{'Alabama': 'Montgomery',\n",
       " 'Alaska': 'Juneau',\n",
       " 'Arizona': 'Phoenix',\n",
       " 'Arkansas': 'Little Rock',\n",
       " 'California': 'Sacramento',\n",
       " 'Colorado': 'Denver',\n",
       " 'Connecticut': 'Hartford',\n",
       " 'Delaware': 'Dover',\n",
       " 'Florida': 'Tallahassee',\n",
       " 'Georgia': 'Atlanta',\n",
       " 'Hawaii': 'Honolulu',\n",
       " 'Idaho': 'Boise',\n",
       " 'Illinios': 'Springfield',\n",
       " 'Indiana': 'Indianapolis',\n",
       " 'Iowa': 'Des Monies',\n",
       " 'Kansas': 'Topeka',\n",
       " 'Kentucky': 'Frankfort',\n",
       " 'Louisiana': 'Baton Rouge',\n",
       " 'Maine': 'Augusta',\n",
       " 'Maryland': 'Annapolis',\n",
       " 'Massachusetts': 'Boston',\n",
       " 'Michigan': 'Lansing',\n",
       " 'Minnesota': 'St. Paul',\n",
       " 'Mississippi': 'Jackson',\n",
       " 'Missouri': 'Jefferson City',\n",
       " 'Montana': 'Helena',\n",
       " 'Nebraska': 'Lincoln',\n",
       " 'Neveda': 'Carson City',\n",
       " 'New Hampshire': 'Concord',\n",
       " 'New Jersey': 'Trenton',\n",
       " 'New Mexico': 'Santa Fe',\n",
       " 'New York': 'Albany',\n",
       " 'North Carolina': 'Raleigh',\n",
       " 'North Dakota': 'Bismarck',\n",
       " 'Ohio': 'Columbus',\n",
       " 'Oklahoma': 'Oklahoma City',\n",
       " 'Oregon': 'Salem',\n",
       " 'Pennsylvania': 'Harrisburg',\n",
       " 'Rhoda Island': 'Providence',\n",
       " 'South Carolina': 'Columbia',\n",
       " 'South Dakota': 'Pierre',\n",
       " 'Tennessee': 'Nashville',\n",
       " 'Texas': 'Austin',\n",
       " 'Utah': 'Salt Lake City',\n",
       " 'Vermont': 'Montpelier',\n",
       " 'Virginia': 'Richmond',\n",
       " 'Washington': 'Olympia',\n",
       " 'West Virginia': 'Charleston',\n",
       " 'Wisconsin': 'Madison',\n",
       " 'Wyoming': 'Cheyenne'}"
      ]
     },
     "execution_count": 96,
     "metadata": {},
     "output_type": "execute_result"
    }
   ],
   "source": [
    "# Run this cell to create a dictionary of states' capitals\n",
    "capitals={\n",
    "    'Alabama': 'Montgomery',\n",
    "    'Alaska': 'Juneau',\n",
    "    'Arizona':'Phoenix',\n",
    "    'Arkansas':'Little Rock',\n",
    "    'California': 'Sacramento',\n",
    "    'Colorado':'Denver',\n",
    "    'Connecticut':'Hartford',\n",
    "    'Delaware':'Dover',\n",
    "    'Florida': 'Tallahassee',\n",
    "    'Georgia': 'Atlanta',\n",
    "    'Hawaii': 'Honolulu',\n",
    "    'Idaho': 'Boise',\n",
    "    'Illinios': 'Springfield',\n",
    "    'Indiana': 'Indianapolis',\n",
    "    'Iowa': 'Des Monies',\n",
    "    'Kansas': 'Topeka',\n",
    "    'Kentucky': 'Frankfort',\n",
    "    'Louisiana': 'Baton Rouge',\n",
    "    'Maine': 'Augusta',\n",
    "    'Maryland': 'Annapolis',\n",
    "    'Massachusetts': 'Boston',\n",
    "    'Michigan': 'Lansing',\n",
    "    'Minnesota': 'St. Paul',\n",
    "    'Mississippi': 'Jackson',\n",
    "    'Missouri': 'Jefferson City',\n",
    "    'Montana': 'Helena',\n",
    "    'Nebraska': 'Lincoln',\n",
    "    'Neveda': 'Carson City',\n",
    "    'New Hampshire': 'Concord',\n",
    "    'New Jersey': 'Trenton',\n",
    "    'New Mexico': 'Santa Fe',\n",
    "    'New York': 'Albany',\n",
    "    'North Carolina': 'Raleigh',\n",
    "    'North Dakota': 'Bismarck',\n",
    "    'Ohio': 'Columbus',\n",
    "    'Oklahoma': 'Oklahoma City',\n",
    "    'Oregon': 'Salem',\n",
    "    'Pennsylvania': 'Harrisburg',\n",
    "    'Rhoda Island': 'Providence',\n",
    "    'South Carolina': 'Columbia',\n",
    "    'South Dakota': 'Pierre',\n",
    "    'Tennessee': 'Nashville',\n",
    "    'Texas': 'Austin',\n",
    "    'Utah': 'Salt Lake City',\n",
    "    'Vermont': 'Montpelier',\n",
    "    'Virginia': 'Richmond',\n",
    "    'Washington': 'Olympia',\n",
    "    'West Virginia': 'Charleston',\n",
    "    'Wisconsin': 'Madison',\n",
    "    'Wyoming': 'Cheyenne'  \n",
    "}\n",
    "capitals"
   ]
  },
  {
   "cell_type": "code",
   "execution_count": 99,
   "id": "42e2c23b",
   "metadata": {},
   "outputs": [],
   "source": [
    "##Type your code here"
   ]
  },
  {
   "cell_type": "markdown",
   "id": "c759bb09",
   "metadata": {},
   "source": [
    "Exercise 3\n",
    "\n",
    "1). Generate a list of integers from 0 to 5, reverse the list and print it out. Explain how you reversed the list.     \n",
    "**Hint:** the `append()` function will help you to generate the list by adding one integer to the list at a time"
   ]
  },
  {
   "cell_type": "code",
   "execution_count": 101,
   "id": "af5d07a2",
   "metadata": {},
   "outputs": [],
   "source": [
    "#Type your code here"
   ]
  },
  {
   "cell_type": "markdown",
   "id": "1791a176",
   "metadata": {},
   "source": [
    "Exercise 4\n",
    "\n",
    "Write a function `isIn()` which returns **boolean `True`** if a point is within a rectangle specified by two sets of coordinates and **boolean `False`** if the point is outside the rectangle. The function should accept three parameters:\n",
    "- the first parameter is a set of coordinates which defines one of the corners of the rectangle, \n",
    "- the second parameter is also a set of coordinates that defines the second corner,\n",
    "- the third set of coordinates defines a single point which is being tested.\n",
    "\n",
    "For example, \n",
    "- `isIn((1,2), (3,4), (1.5, 3.2))` should return `True`, \n",
    "- `isIn((4,3.5), (2,1), (3, 2))` should return `True`, \n",
    "- `isIn((-1,0), (5,5), (6,0))` should return `False`,\n",
    "- `isIn((4,1), (2,4), (2.5,4.5))` should return `False`.\n",
    "\n",
    "Test your function with at least 2 different sets of data points in addition to the examples above.\n",
    "\n",
    "**NOTES:** \n",
    "1. If the point being tested is on the side of the rectangle, consider it to be within the rectangle. For example, if the rectangle is defined as `(1,2), (3,4)` and the point is `(2,2)`, the function should return `True`.\n",
    "2. In this assignment, we assume that the edges of the rectangle are parallel to coordinate axes.\n",
    "3. We also assume that the first parameter does not always represent the left corner of the rectangle and the second parameter is not always the right corner. The function should work correctly either way. Please note the second test condition above where the first parameter, `(4,3.5)`, represents the top-right corner and the second parameter, `(2,1)`, represents left-bottom corner. "
   ]
  },
  {
   "cell_type": "code",
   "execution_count": 98,
   "id": "c10f670c",
   "metadata": {},
   "outputs": [],
   "source": [
    "##Type your code here"
   ]
  },
  {
   "cell_type": "markdown",
   "id": "f45c6a9e",
   "metadata": {},
   "source": [
    "Exercise 5\n",
    "\n",
    "Modify your function from the previous question so it takes a list of points rather than a single point and returns **boolean `True`** only if all points in the list are in the rectangle.\n",
    "\n",
    "For example,\n",
    "\n",
    "- `allIn((0,0), (5,5), [(1,1), (0,0), (5,5)])` should return `True`\n",
    "- but `allIn((0,0), (5,5), [(1,1), (0,0), (5,6)])` should return `False`\n",
    "- empty list of points `allIn((0,0), (5,5), [])` should return `False`\n",
    "\n",
    "Use the same assumptions as above about the placement of the points and how rectangle is defined. Make sure that your function returns `False` for empty list of points (no values).\n",
    "\n",
    "Test your function with at least 3 different sets of data points."
   ]
  },
  {
   "cell_type": "code",
   "execution_count": 102,
   "id": "40a901eb",
   "metadata": {},
   "outputs": [],
   "source": [
    "##Type your code here"
   ]
  }
 ],
 "metadata": {
  "classification": {
   "level": null,
   "suggestion": {
    "reason": "This is the default setting. We don't have a strong opinion on this notebook quite yet.",
    "suggested": null
   }
  },
  "kernelspec": {
   "display_name": "Python 3.7 (Legacy)",
   "language": "python",
   "name": "python3.7"
  },
  "language_info": {
   "codemirror_mode": {
    "name": "ipython",
    "version": 3
   },
   "file_extension": ".py",
   "mimetype": "text/x-python",
   "name": "python",
   "nbconvert_exporter": "python",
   "pygments_lexer": "ipython3",
   "version": "3.7.3"
  },
  "vscode": {
   "interpreter": {
    "hash": "b5c429c96f4a5ca7cf8cf9147718f1895dbb272fb239d62cd4412753dee9d75d"
   }
  }
 },
 "nbformat": 4,
 "nbformat_minor": 5
}
